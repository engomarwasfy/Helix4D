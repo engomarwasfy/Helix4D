{
 "cells": [
  {
   "cell_type": "markdown",
   "metadata": {},
   "source": [
    "# Helix4D's Inference on HelixNet\n",
    "\n",
    "Inferences on HelixNet with the default configuration of Helix4D. Model trained with full rotations of the sensor, and inference on 1/5 turn. For visualization, all point clouds are downsampled on a regular grid of size 25cm."
   ]
  },
  {
   "cell_type": "code",
   "execution_count": null,
   "metadata": {},
   "outputs": [],
   "source": [
    "!HYDRA_FULL_ERROR=1\n",
    "\n",
    "%load_ext autoreload\n",
    "%autoreload 2\n",
    "import warnings\n",
    "warnings.filterwarnings(\"ignore\")\n",
    "from plotly.offline import init_notebook_mode\n",
    "init_notebook_mode(connected = True)\n",
    "\n",
    "import sys, os\n",
    "sys.path.append(\"../\")\n",
    "\n",
    "import hydra\n",
    "import pytorch_lightning as pl\n",
    "import logging\n",
    "\n",
    "pl.utilities.distributed.log.setLevel(logging.ERROR)\n",
    "\n",
    "hydra.initialize(config_path=\"../configs\")\n",
    "cfg = hydra.compose(config_name=\"defaults.yaml\", overrides=[\"hydra.searchpath=[file://../HelixNet/configs]\", \"+experiment=viz/ours_helixnet\"])\n",
    "\n",
    "cfg.data.data_dir = os.path.join(\"../\", cfg.data.data_dir)\n",
    "cfg.model.load_weights = os.path.join(\"../\", cfg.model.load_weights)\n",
    "if \"helixnet\" in cfg.data._target_:\n",
    "    cfg.data._target_ = f\"HelixNet.{cfg.data._target_}\"\n",
    "\n",
    "pl.seed_everything(cfg.seed)\n",
    "\n",
    "import numpy as np\n",
    "import torch\n",
    "from torch_geometric.data import Batch"
   ]
  },
  {
   "cell_type": "code",
   "execution_count": null,
   "metadata": {},
   "outputs": [],
   "source": [
    "datamodule = hydra.utils.instantiate(cfg.data)\n",
    "datamodule.setup()\n",
    "\n",
    "tag = \"test\""
   ]
  },
  {
   "cell_type": "code",
   "execution_count": null,
   "metadata": {},
   "outputs": [],
   "source": [
    "model = hydra.utils.instantiate(\n",
    "        cfg.model,\n",
    "        _recursive_=False,\n",
    "    ).cuda()\n",
    "\n",
    "model.load_state_dict(torch.load(cfg.model.load_weights, map_location=f\"cuda:{0}\")['state_dict'])\n",
    "\n",
    "if torch.cuda.is_available():\n",
    "    model = model.cuda()"
   ]
  },
  {
   "cell_type": "code",
   "execution_count": null,
   "metadata": {},
   "outputs": [],
   "source": [
    "items = []\n",
    "len_dataset = len(getattr(datamodule, f\"{tag}_dataset\"))\n",
    "\n",
    "while len(items) < 2:\n",
    "    item = getattr(datamodule, f\"{tag}_dataset\")[np.random.randint(len_dataset)]\n",
    "    with torch.no_grad():\n",
    "        out = model(Batch.from_data_list([item]).to(model.device), 1, 0)[0].detach().cpu()\n",
    "    item.point_pred_y = out.argmax(-1)\n",
    "    \n",
    "    items.append(item.detach().cpu())\n",
    "    torch.cuda.empty_cache()\n",
    "\n",
    "model = model.cpu()\n",
    "item = item.cpu()\n",
    "del item, model\n",
    "torch.cuda.empty_cache()"
   ]
  },
  {
   "cell_type": "code",
   "execution_count": null,
   "metadata": {
    "scrolled": false
   },
   "outputs": [],
   "source": [
    "for item in items:\n",
    "    datamodule.show_3d(item, \"pred_y;y;slice;voxel;time\")"
   ]
  }
 ],
 "metadata": {
  "kernelspec": {
   "display_name": "Python 3.9.7 ('spconvN')",
   "language": "python",
   "name": "python3"
  },
  "language_info": {
   "codemirror_mode": {
    "name": "ipython",
    "version": 3
   },
   "file_extension": ".py",
   "mimetype": "text/x-python",
   "name": "python",
   "nbconvert_exporter": "python",
   "pygments_lexer": "ipython3",
   "version": "3.9.7"
  },
  "vscode": {
   "interpreter": {
    "hash": "b9e25cc0ddd735c5ac8abcc2e46ae161aa4c501c69f917937f0fb8b144714774"
   }
  }
 },
 "nbformat": 4,
 "nbformat_minor": 2
}
