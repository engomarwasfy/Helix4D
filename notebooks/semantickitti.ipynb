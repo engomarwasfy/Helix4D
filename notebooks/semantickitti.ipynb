{
 "cells": [
  {
   "cell_type": "markdown",
   "metadata": {},
   "source": [
    "# Educationnal notebook : loading and inference on SemanticKITTI\n",
    "## Loading config files"
   ]
  },
  {
   "cell_type": "code",
   "execution_count": null,
   "metadata": {},
   "outputs": [],
   "source": [
    "!HYDRA_FULL_ERROR=1\n",
    "%load_ext autoreload\n",
    "%autoreload 2\n",
    "\n",
    "import sys, os\n",
    "sys.path.append(\"../\")\n",
    "\n",
    "import warnings\n",
    "warnings.filterwarnings(\"ignore\")\n",
    "\n",
    "import hydra\n",
    "import pytorch_lightning as pl\n",
    "import numpy as np\n",
    "import torch\n",
    "from torch_geometric.data import Batch\n",
    "\n",
    "#Loading config and making small changes for visualisation\n",
    "hydra.initialize(config_path=\"../configs\")\n",
    "cfg = hydra.compose(config_name=\"defaults.yaml\", overrides=[\"hydra.searchpath=[file://../HelixNet/configs]\", \"+data=semantic-kitti\", \"+experiment=viz/ours_sk\"])\n",
    "\n",
    "cfg.data.data_dir = os.path.join(\"../\", cfg.data.data_dir)\n",
    "cfg.model.load_weights = os.path.join(\"../\", cfg.model.load_weights)\n",
    "if \"helixnet\" in cfg.data._target_:\n",
    "    cfg.data._target_ = f\"HelixNet.{cfg.data._target_}\"\n",
    "\n",
    "\n",
    "pl.seed_everything(cfg.seed)\n",
    "\n",
    "import helix4d"
   ]
  },
  {
   "cell_type": "markdown",
   "metadata": {},
   "source": [
    "## Loading the dataset"
   ]
  },
  {
   "cell_type": "code",
   "execution_count": null,
   "metadata": {},
   "outputs": [],
   "source": [
    "datamodule = hydra.utils.instantiate(cfg.data)\n",
    "datamodule.setup(\"fit\")"
   ]
  },
  {
   "cell_type": "markdown",
   "metadata": {},
   "source": [
    "## Loading the model"
   ]
  },
  {
   "cell_type": "code",
   "execution_count": null,
   "metadata": {},
   "outputs": [],
   "source": [
    "model = hydra.utils.instantiate(\n",
    "        cfg.model,\n",
    "        _recursive_=False,\n",
    "    )\n",
    "model.load_state_dict(torch.load(cfg.model.load_weights, map_location=f\"cuda:{0}\")['state_dict'])\n",
    "\n",
    "if torch.cuda.is_available():\n",
    "    model = model.cuda()"
   ]
  },
  {
   "cell_type": "markdown",
   "metadata": {},
   "source": [
    "## Inference on random samples"
   ]
  },
  {
   "cell_type": "code",
   "execution_count": null,
   "metadata": {
    "scrolled": false
   },
   "outputs": [],
   "source": [
    "for _ in range(3):\n",
    "    item=datamodule.val_dataset[np.random.randint(len(datamodule.val_dataset))]\n",
    "\n",
    "    with torch.no_grad():\n",
    "        item.point_pred_y = model(Batch.from_data_list([item]).to(model.device), 1, 0)[0].argmax(-1).detach().cpu()\n",
    "    \n",
    "    datamodule.show_2d(item, color=\"y;pred_y;voxel\")\n",
    "    print(f\"Seq {item.seqid} frame {item.scanid}\\t Accuracy = {100*(item.point_y == item.point_pred_y)[item.point_y!=0].float().mean():.2f}\\n\\n\")"
   ]
  }
 ],
 "metadata": {
  "interpreter": {
   "hash": "f66f361b60a0f669a83bf49483502faf91b64305c31842951638f8f87d6b5230"
  },
  "kernelspec": {
   "display_name": "Python 3 (ipykernel)",
   "language": "python",
   "name": "python3"
  },
  "language_info": {
   "codemirror_mode": {
    "name": "ipython",
    "version": 3
   },
   "file_extension": ".py",
   "mimetype": "text/x-python",
   "name": "python",
   "nbconvert_exporter": "python",
   "pygments_lexer": "ipython3",
   "version": "3.9.7"
  }
 },
 "nbformat": 4,
 "nbformat_minor": 2
}
